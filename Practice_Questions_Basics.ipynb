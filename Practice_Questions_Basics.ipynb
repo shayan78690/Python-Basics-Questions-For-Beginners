{
  "nbformat": 4,
  "nbformat_minor": 0,
  "metadata": {
    "colab": {
      "provenance": []
    },
    "kernelspec": {
      "name": "python3",
      "display_name": "Python 3"
    },
    "language_info": {
      "name": "python"
    }
  },
  "cells": [
    {
      "cell_type": "markdown",
      "source": [
        "#1. Simple Calculator\n"
      ],
      "metadata": {
        "id": "EwOQin1Jvt3W"
      }
    },
    {
      "cell_type": "markdown",
      "source": [
        " Write a program that takes two numbers and an operator (+, -, *, /) from the user and performs the corresponding operation. Print the result."
      ],
      "metadata": {
        "id": "1W0CWXuqIyP_"
      }
    },
    {
      "cell_type": "code",
      "source": [
        "num1 = int(input(\"Enter First Number: \"))\n",
        "num2 = int(input(\"Enter Second Number: \"))\n",
        "operator = input(\"Enter Operator(+, -, *, /): \")\n",
        "\n",
        "if operator == '+':\n",
        "  result = num1 + num2\n",
        "elif operator == '-':\n",
        "  result = num1 - num2\n",
        "elif operator == '*':\n",
        "  result = num1 * num2\n",
        "elif operator == '/':\n",
        "  if num2 != 0:\n",
        "    result = num1 / num2\n",
        "  else:\n",
        "    print(\"You have entered number 2 as 0\")\n",
        "else:\n",
        "  print(\"Invalid Operator\")\n",
        "\n",
        "print(\"Result = \", result)"
      ],
      "metadata": {
        "colab": {
          "base_uri": "https://localhost:8080/"
        },
        "id": "XCTSqh0LvyYM",
        "outputId": "9aea85d4-8a28-4487-b24f-c9cdfa6af63a"
      },
      "execution_count": 1,
      "outputs": [
        {
          "output_type": "stream",
          "name": "stdout",
          "text": [
            "Enter First Number: 12\n",
            "Enter Second Number: 12\n",
            "Enter Operator(+, -, *, /): *\n",
            "Result =  144\n"
          ]
        }
      ]
    },
    {
      "cell_type": "markdown",
      "source": [
        "#2. Area of Circle\n"
      ],
      "metadata": {
        "id": "0h7rLosXxdz2"
      }
    },
    {
      "cell_type": "markdown",
      "source": [
        "Take the radius as input and calculate the area of a circle using the formula\n",
        "𝜋\n",
        "𝑟\n",
        "2\n",
        "πr\n",
        "2\n",
        " . (Use math.pi for π).\n",
        "\n"
      ],
      "metadata": {
        "id": "041ZDxV-I2Lb"
      }
    },
    {
      "cell_type": "code",
      "source": [
        "import math\n",
        "\n",
        "radius = float(input(\"Enter Radius\"))\n",
        "pi = math.pi\n",
        "area = pi * radius * radius\n",
        "print(f'Area of Circle is {area}')"
      ],
      "metadata": {
        "colab": {
          "base_uri": "https://localhost:8080/"
        },
        "id": "EQOLVy7GxhIz",
        "outputId": "21fc7e8a-c2d2-4f34-d4c3-9a0182fdeec2"
      },
      "execution_count": 3,
      "outputs": [
        {
          "output_type": "stream",
          "name": "stdout",
          "text": [
            "Enter Radius12\n",
            "Area of Circle is 452.3893421169302\n"
          ]
        }
      ]
    },
    {
      "cell_type": "markdown",
      "source": [
        "#3. Temperature Conversion"
      ],
      "metadata": {
        "id": "iC4TqvnKyI1i"
      }
    },
    {
      "cell_type": "markdown",
      "source": [
        "Write a program to convert temperature from Celsius to Fahrenheit. Use the formula:\n",
        "𝐹 = (𝐶 × 9/5) + 32\n",
        "\n",
        "\n"
      ],
      "metadata": {
        "id": "V-NqqTLxI6zn"
      }
    },
    {
      "cell_type": "code",
      "source": [
        "celcius = float(input(\"Enter Temperature in Celcius\"))\n",
        "fahrenheit = (celcius * 9/5) + 32\n",
        "print(f'Temperature in Fahrenheit is {fahrenheit}')"
      ],
      "metadata": {
        "colab": {
          "base_uri": "https://localhost:8080/"
        },
        "id": "zFOI4E7gyOJE",
        "outputId": "e22194d3-b86b-409c-dea6-aa51c67fe6e7"
      },
      "execution_count": 4,
      "outputs": [
        {
          "output_type": "stream",
          "name": "stdout",
          "text": [
            "Enter Temperature in Celcius25\n",
            "Temperature in Fahrenheit is 77.0\n"
          ]
        }
      ]
    },
    {
      "cell_type": "markdown",
      "source": [
        "#4. BMI Calculator"
      ],
      "metadata": {
        "id": "1sYMqbeny46S"
      }
    },
    {
      "cell_type": "markdown",
      "source": [
        "Write a program that takes a person’s weight in kilograms and height in meters and calculates their BMI using the formula:\n",
        "BMI = weight/height^2\n"
      ],
      "metadata": {
        "id": "0TbJ2rmeJMkc"
      }
    },
    {
      "cell_type": "code",
      "source": [
        "weight = float(input(\"Enter Your Weight in Kilogram: \"))\n",
        "height = float(input(\"Enter Your Height in Meter: \"))\n",
        "\n",
        "if height > 0:\n",
        "  bmi = weight / (height ** 2)\n",
        "  print(\"your BMI is \", round(bmi, 2))\n",
        "else:\n",
        "  print(\"Height Cannot be Negative or Zero\")"
      ],
      "metadata": {
        "colab": {
          "base_uri": "https://localhost:8080/"
        },
        "id": "Eekmq2Try6oA",
        "outputId": "7b7c75ee-4441-4b70-b737-3b33cc37a819"
      },
      "execution_count": 7,
      "outputs": [
        {
          "output_type": "stream",
          "name": "stdout",
          "text": [
            "Enter Your Weight in Kilogram: 60\n",
            "Enter Your Height in Meter: 1.8034\n",
            "your BMI is  18.45\n"
          ]
        }
      ]
    },
    {
      "cell_type": "markdown",
      "source": [
        "#5. Leap Year Checker:"
      ],
      "metadata": {
        "id": "I-KgpMms0LAb"
      }
    },
    {
      "cell_type": "markdown",
      "source": [
        "Leap Year Checker: Take a year as input and check if it is a leap year. A year is a leap year if it is divisible by 4 but not by 100, except if it is also divisible by 400."
      ],
      "metadata": {
        "id": "p4gFvrRwJYQT"
      }
    },
    {
      "cell_type": "code",
      "source": [
        "year = int(input(\"Enter Any Year: \"))\n",
        "if (year % 4 == 0 and year % 100 != 0) or year % 400 == 0:\n",
        "  print(f'{year} is a leep year')\n",
        "else:\n",
        "  print(f'{year} is not a leap year')"
      ],
      "metadata": {
        "colab": {
          "base_uri": "https://localhost:8080/"
        },
        "id": "r2_x7tLD0RLC",
        "outputId": "5ad4b246-5183-4987-eaf2-920339c5e0de"
      },
      "execution_count": 10,
      "outputs": [
        {
          "output_type": "stream",
          "name": "stdout",
          "text": [
            "Enter Any Year: 2020\n",
            "2020 is a leep year\n"
          ]
        }
      ]
    },
    {
      "cell_type": "markdown",
      "source": [
        "#6. Even or Odd"
      ],
      "metadata": {
        "id": "1afl15a_1LGT"
      }
    },
    {
      "cell_type": "markdown",
      "source": [
        " Write a program that takes a number and prints whether it is even or odd."
      ],
      "metadata": {
        "id": "Pmri0nJRJa2r"
      }
    },
    {
      "cell_type": "code",
      "source": [
        "number = int(input(\"Enter Any Number: \"))\n",
        "\n",
        "if number % 2 == 0:\n",
        "  print(f'{number} is even')\n",
        "else:\n",
        "  print(f'{number} is odd')"
      ],
      "metadata": {
        "colab": {
          "base_uri": "https://localhost:8080/"
        },
        "id": "ZxknYSaU1P4k",
        "outputId": "268e4f10-62db-41c5-d56d-5778c8919ff7"
      },
      "execution_count": 12,
      "outputs": [
        {
          "output_type": "stream",
          "name": "stdout",
          "text": [
            "Enter Any Number: 4\n",
            "4 is even\n"
          ]
        }
      ]
    },
    {
      "cell_type": "markdown",
      "source": [
        "#7. Grade Calculator"
      ],
      "metadata": {
        "id": "-oR3pQ2v1mc-"
      }
    },
    {
      "cell_type": "markdown",
      "source": [
        "Take a percentage as input and print the grade based on the following criteria:\n",
        "\n",
        "\n",
        "\n",
        "*   90% and above: A+\n",
        "*   80-89%: A\n",
        "*   70-79%: B\n",
        "*   60-69%: C\n",
        "*   Below 60%: F\n",
        "\n",
        "\n",
        "\n",
        "\n"
      ],
      "metadata": {
        "id": "hJVCHvmKJdzb"
      }
    },
    {
      "cell_type": "code",
      "source": [
        "percentage = float(input(\"Enter Your Percentage: \"))\n",
        "if percentage >= 90:\n",
        "  grade = \"A+\"\n",
        "elif 80 <= percentage < 90:\n",
        "  grade = \"A\"\n",
        "elif 70 <= percentage < 80:\n",
        "  grade = \"B\"\n",
        "elif 60 <= percentage < 70:\n",
        "  grade = \"C\"\n",
        "elif percentage < 60:\n",
        "  grade = \"F\"\n",
        "else:\n",
        "  print(\"Invalid Percentage!\")\n",
        "\n",
        "print(f'Your Grade is {grade}')"
      ],
      "metadata": {
        "colab": {
          "base_uri": "https://localhost:8080/"
        },
        "id": "Frel0_yk1qBf",
        "outputId": "820b8c34-2568-4b41-dfbe-6f386bcf6a25"
      },
      "execution_count": 13,
      "outputs": [
        {
          "output_type": "stream",
          "name": "stdout",
          "text": [
            "Enter Your Percentage: 85\n",
            "Your Grade is A\n"
          ]
        }
      ]
    },
    {
      "cell_type": "markdown",
      "source": [
        "# 8. Number Comparison"
      ],
      "metadata": {
        "id": "7SktrItg3gEA"
      }
    },
    {
      "cell_type": "markdown",
      "source": [
        "Take three numbers as input and find the largest among them."
      ],
      "metadata": {
        "id": "OXSJLEXPJ8P5"
      }
    },
    {
      "cell_type": "code",
      "source": [
        "num1 = int(input(\"Enter First Number: \"))\n",
        "num2 = int(input(\"Enter Second Number: \"))\n",
        "num3 = int(input(\"Enter Third Number: \"))\n",
        "\n",
        "if num1 > num2:\n",
        "  if num1 > num3:\n",
        "    print(f'{num1} is largest among all three')\n",
        "  else:\n",
        "    print(f'{num3} is largest among all three')\n",
        "else:\n",
        "  if num2 > num3:\n",
        "    print(f'{num2} is largest among all three')\n",
        "  else:\n",
        "    print(f'{num3} is largest among all three')\n",
        "\n"
      ],
      "metadata": {
        "colab": {
          "base_uri": "https://localhost:8080/"
        },
        "id": "GnTcAsFo3j0Y",
        "outputId": "5b29eb7a-5efe-4a60-8cb9-0cba066eefdf"
      },
      "execution_count": 15,
      "outputs": [
        {
          "output_type": "stream",
          "name": "stdout",
          "text": [
            "Enter First Number: 200\n",
            "Enter Second Number: 988\n",
            "Enter Third Number: 566\n",
            "988 is largest among all three\n"
          ]
        }
      ]
    },
    {
      "cell_type": "markdown",
      "source": [
        "# 9. Factorial Calculation"
      ],
      "metadata": {
        "id": "ZYeAG2CB5EZW"
      }
    },
    {
      "cell_type": "markdown",
      "source": [
        "Write a program that takes a positive integer and prints its factorial."
      ],
      "metadata": {
        "id": "rBfphU_3J_oF"
      }
    },
    {
      "cell_type": "code",
      "source": [
        "from re import I\n",
        "fact = 1\n",
        "n = int(input(\"Enter Any Positive Integer: \"))\n",
        "# i = 1\n",
        "# while i <= n:\n",
        "#   fact = fact * i\n",
        "#   i = i + 1\n",
        "\n",
        "# print(f'Factorial of {n} is {fact}')\n",
        "\n",
        "for i in range (1, n+1):\n",
        "  fact = fact * i\n",
        "\n",
        "print(f'Factorial of {n} is {fact}')\n",
        "\n"
      ],
      "metadata": {
        "colab": {
          "base_uri": "https://localhost:8080/"
        },
        "id": "2a4djaRA5JEO",
        "outputId": "5b3ee73b-2169-4b3d-8a27-1734432ac965"
      },
      "execution_count": 17,
      "outputs": [
        {
          "output_type": "stream",
          "name": "stdout",
          "text": [
            "Enter Any Positive Integer: 5\n",
            "Factorial of 5 is 120\n"
          ]
        }
      ]
    },
    {
      "cell_type": "markdown",
      "source": [
        "#10. Fibonacci Series"
      ],
      "metadata": {
        "id": "kQBu-hzq5yHs"
      }
    },
    {
      "cell_type": "markdown",
      "source": [
        "Write a program that takes an integer n and prints the first n numbers in the Fibonacci series."
      ],
      "metadata": {
        "id": "Rp8-ceYsKCDZ"
      }
    },
    {
      "cell_type": "code",
      "source": [
        "n = int(input(\"Enter the Value of n: \"))\n",
        "\n",
        "a, b = 0, 1\n",
        "\n",
        "if n <= 0:\n",
        "  print(\"Please Enter a Positive Integer: \")\n",
        "elif n == 1:\n",
        "  print(\"Fibonacci Series: \", a)\n",
        "else:\n",
        "  for _ in range(n):\n",
        "    print(a, end = \" \")\n",
        "    a, b = b, a + b"
      ],
      "metadata": {
        "colab": {
          "base_uri": "https://localhost:8080/"
        },
        "id": "VSwvRb-d53VV",
        "outputId": "0efb2994-033d-4008-8af8-52475e2b0495"
      },
      "execution_count": 21,
      "outputs": [
        {
          "output_type": "stream",
          "name": "stdout",
          "text": [
            "Enter the Value of n: 5\n",
            "0 1 1 2 3 "
          ]
        }
      ]
    },
    {
      "cell_type": "markdown",
      "source": [
        "#11. Prime Number Check"
      ],
      "metadata": {
        "id": "wQGlNWrG8JSZ"
      }
    },
    {
      "cell_type": "markdown",
      "source": [
        "Write a program that takes a number and checks if it is a prime number.\n",
        "\n"
      ],
      "metadata": {
        "id": "b-7plqQSKGpb"
      }
    },
    {
      "cell_type": "code",
      "source": [
        "n = int(input(\"Enter Any Number: \"))\n",
        "\n",
        "if n <= 1:\n",
        "  print(f\"{n} is not a prime number\")\n",
        "else:\n",
        "  is_Prime = True\n",
        "  for i in range(2, int(n ** 0.5) + 1):\n",
        "    if n % i == 0:\n",
        "      is_Prime = False\n",
        "      break\n",
        "    else:\n",
        "      is_Prime = True\n",
        "\n",
        "\n",
        "if is_Prime:\n",
        "  print(f\"{num} is a prime number.\")\n",
        "else:\n",
        "  print(f\"{num} is not a prime number.\")"
      ],
      "metadata": {
        "colab": {
          "base_uri": "https://localhost:8080/"
        },
        "id": "hlEUh-li8KqT",
        "outputId": "704a802b-4693-4519-cff5-03266eb145d1"
      },
      "execution_count": 41,
      "outputs": [
        {
          "output_type": "stream",
          "name": "stdout",
          "text": [
            "Enter Any Number: 7\n",
            "12 is a prime number.\n"
          ]
        }
      ]
    },
    {
      "cell_type": "markdown",
      "source": [
        "# 12. Multiplication Table"
      ],
      "metadata": {
        "id": "5F2p8BSdBkVJ"
      }
    },
    {
      "cell_type": "markdown",
      "source": [
        "Write a program that takes an integer and prints its multiplication table up to 10."
      ],
      "metadata": {
        "id": "hc1K1egQKKAV"
      }
    },
    {
      "cell_type": "code",
      "source": [
        "n = 5\n",
        "for i in range(1, 11):\n",
        "  print(f'{n} * {i} = {n * i}')"
      ],
      "metadata": {
        "colab": {
          "base_uri": "https://localhost:8080/"
        },
        "id": "JC92QdFvBmMy",
        "outputId": "f5ec70c7-998d-45de-b5c6-cd06d262604c"
      },
      "execution_count": 42,
      "outputs": [
        {
          "output_type": "stream",
          "name": "stdout",
          "text": [
            "5 * 1 = 5\n",
            "5 * 2 = 10\n",
            "5 * 3 = 15\n",
            "5 * 4 = 20\n",
            "5 * 5 = 25\n",
            "5 * 6 = 30\n",
            "5 * 7 = 35\n",
            "5 * 8 = 40\n",
            "5 * 9 = 45\n",
            "5 * 10 = 50\n"
          ]
        }
      ]
    },
    {
      "cell_type": "code",
      "source": [
        "for i in range(1, 11):\n",
        "  for j in range(1, 11):\n",
        "    print(f'{i} * {j} = {i * j}')\n",
        "  print()"
      ],
      "metadata": {
        "colab": {
          "base_uri": "https://localhost:8080/"
        },
        "id": "aurvZ8efB1ek",
        "outputId": "85b8df0d-c5ca-4f5e-b708-6c2e03e7a814"
      },
      "execution_count": 43,
      "outputs": [
        {
          "output_type": "stream",
          "name": "stdout",
          "text": [
            "1 * 1 = 1\n",
            "1 * 2 = 2\n",
            "1 * 3 = 3\n",
            "1 * 4 = 4\n",
            "1 * 5 = 5\n",
            "1 * 6 = 6\n",
            "1 * 7 = 7\n",
            "1 * 8 = 8\n",
            "1 * 9 = 9\n",
            "1 * 10 = 10\n",
            "\n",
            "2 * 1 = 2\n",
            "2 * 2 = 4\n",
            "2 * 3 = 6\n",
            "2 * 4 = 8\n",
            "2 * 5 = 10\n",
            "2 * 6 = 12\n",
            "2 * 7 = 14\n",
            "2 * 8 = 16\n",
            "2 * 9 = 18\n",
            "2 * 10 = 20\n",
            "\n",
            "3 * 1 = 3\n",
            "3 * 2 = 6\n",
            "3 * 3 = 9\n",
            "3 * 4 = 12\n",
            "3 * 5 = 15\n",
            "3 * 6 = 18\n",
            "3 * 7 = 21\n",
            "3 * 8 = 24\n",
            "3 * 9 = 27\n",
            "3 * 10 = 30\n",
            "\n",
            "4 * 1 = 4\n",
            "4 * 2 = 8\n",
            "4 * 3 = 12\n",
            "4 * 4 = 16\n",
            "4 * 5 = 20\n",
            "4 * 6 = 24\n",
            "4 * 7 = 28\n",
            "4 * 8 = 32\n",
            "4 * 9 = 36\n",
            "4 * 10 = 40\n",
            "\n",
            "5 * 1 = 5\n",
            "5 * 2 = 10\n",
            "5 * 3 = 15\n",
            "5 * 4 = 20\n",
            "5 * 5 = 25\n",
            "5 * 6 = 30\n",
            "5 * 7 = 35\n",
            "5 * 8 = 40\n",
            "5 * 9 = 45\n",
            "5 * 10 = 50\n",
            "\n",
            "6 * 1 = 6\n",
            "6 * 2 = 12\n",
            "6 * 3 = 18\n",
            "6 * 4 = 24\n",
            "6 * 5 = 30\n",
            "6 * 6 = 36\n",
            "6 * 7 = 42\n",
            "6 * 8 = 48\n",
            "6 * 9 = 54\n",
            "6 * 10 = 60\n",
            "\n",
            "7 * 1 = 7\n",
            "7 * 2 = 14\n",
            "7 * 3 = 21\n",
            "7 * 4 = 28\n",
            "7 * 5 = 35\n",
            "7 * 6 = 42\n",
            "7 * 7 = 49\n",
            "7 * 8 = 56\n",
            "7 * 9 = 63\n",
            "7 * 10 = 70\n",
            "\n",
            "8 * 1 = 8\n",
            "8 * 2 = 16\n",
            "8 * 3 = 24\n",
            "8 * 4 = 32\n",
            "8 * 5 = 40\n",
            "8 * 6 = 48\n",
            "8 * 7 = 56\n",
            "8 * 8 = 64\n",
            "8 * 9 = 72\n",
            "8 * 10 = 80\n",
            "\n",
            "9 * 1 = 9\n",
            "9 * 2 = 18\n",
            "9 * 3 = 27\n",
            "9 * 4 = 36\n",
            "9 * 5 = 45\n",
            "9 * 6 = 54\n",
            "9 * 7 = 63\n",
            "9 * 8 = 72\n",
            "9 * 9 = 81\n",
            "9 * 10 = 90\n",
            "\n",
            "10 * 1 = 10\n",
            "10 * 2 = 20\n",
            "10 * 3 = 30\n",
            "10 * 4 = 40\n",
            "10 * 5 = 50\n",
            "10 * 6 = 60\n",
            "10 * 7 = 70\n",
            "10 * 8 = 80\n",
            "10 * 9 = 90\n",
            "10 * 10 = 100\n",
            "\n"
          ]
        }
      ]
    },
    {
      "cell_type": "markdown",
      "source": [
        "#13. Sum of Digits"
      ],
      "metadata": {
        "id": "U_1hZNv-CHJw"
      }
    },
    {
      "cell_type": "markdown",
      "source": [
        "Write a program to calculate the sum of digits of a given integer. (For example, if the input is 123, the output should be 6).\n",
        "\n"
      ],
      "metadata": {
        "id": "6bEFGnoNKN7E"
      }
    },
    {
      "cell_type": "code",
      "source": [
        "n = int(input(\"Enter Any Number: \"))\n",
        "sum = 0\n",
        "copy = n\n",
        "while copy > 0:\n",
        "  ld = copy % 10\n",
        "  sum += ld\n",
        "  copy = copy // 10\n",
        "print(f\"Sum of Digits of {n} = {sum}\")"
      ],
      "metadata": {
        "colab": {
          "base_uri": "https://localhost:8080/"
        },
        "id": "YGeOBcAbCKlv",
        "outputId": "c104dd88-b688-4be4-a90d-4dd090835157"
      },
      "execution_count": 47,
      "outputs": [
        {
          "output_type": "stream",
          "name": "stdout",
          "text": [
            "Enter Any Number: 12445\n",
            "Sum of Digits of 12445 = 16\n"
          ]
        }
      ]
    },
    {
      "cell_type": "markdown",
      "source": [
        "#14. Reverse a Number:"
      ],
      "metadata": {
        "id": "zk5TifaEDG_B"
      }
    },
    {
      "cell_type": "markdown",
      "source": [
        " Write a program that takes an integer and prints it in reverse order."
      ],
      "metadata": {
        "id": "JZ_pmArVKSMp"
      }
    },
    {
      "cell_type": "code",
      "source": [
        "n = int(input(\"Enter Any Number: \"))\n",
        "copy = n\n",
        "while copy > 0:\n",
        "  ld = copy % 10\n",
        "  print(ld, end = \"\")\n",
        "  copy = copy // 10"
      ],
      "metadata": {
        "colab": {
          "base_uri": "https://localhost:8080/"
        },
        "id": "evYhHHkeDL0_",
        "outputId": "2d3d1e35-4cc1-4cf2-ab97-92a3c3a8bcd5"
      },
      "execution_count": 48,
      "outputs": [
        {
          "output_type": "stream",
          "name": "stdout",
          "text": [
            "Enter Any Number: 1234\n",
            "4321"
          ]
        }
      ]
    },
    {
      "cell_type": "markdown",
      "source": [
        "Or We can Use another method"
      ],
      "metadata": {
        "id": "VwBUrxSzKUUr"
      }
    },
    {
      "cell_type": "code",
      "source": [
        "n = int(input(\"Enter Any Number: \"))\n",
        "copy = n\n",
        "reverse = 0\n",
        "while copy > 0:\n",
        "  ld = copy % 10\n",
        "  reverse = (reverse * 10) + ld\n",
        "  copy = copy // 10\n",
        "\n",
        "print(reverse)"
      ],
      "metadata": {
        "colab": {
          "base_uri": "https://localhost:8080/"
        },
        "id": "fQYupgtqDiHk",
        "outputId": "428df451-dbb4-4bcb-9d39-527de5c404ab"
      },
      "execution_count": 49,
      "outputs": [
        {
          "output_type": "stream",
          "name": "stdout",
          "text": [
            "Enter Any Number: 1234\n",
            "4321\n"
          ]
        }
      ]
    },
    {
      "cell_type": "markdown",
      "source": [
        "# 15. Armstrong Number:"
      ],
      "metadata": {
        "id": "RpZ8T0opEB8n"
      }
    },
    {
      "cell_type": "markdown",
      "source": [
        "Write a program to check if a given number is an Armstrong number\n",
        "(e.g., 153 = 1^3 + 5^3 + 3^3)\n"
      ],
      "metadata": {
        "id": "VRP0AXVAKdyE"
      }
    },
    {
      "cell_type": "code",
      "source": [
        "n = int(input(\"Enter Any Number You Want to Check: \"))\n",
        "copy = n\n",
        "arm = 0\n",
        "while copy > 0:\n",
        "  ld = copy % 10\n",
        "  arm += ld ** 3\n",
        "  copy = copy // 10\n",
        "\n",
        "if arm == n:\n",
        "  print(\"ArmStrong\")\n",
        "else:\n",
        "  print(\"Not an ArmStrong Number\")"
      ],
      "metadata": {
        "colab": {
          "base_uri": "https://localhost:8080/"
        },
        "id": "BrZkOmBsEFKP",
        "outputId": "df894944-4c85-4447-892a-b57fa871eda1"
      },
      "execution_count": 51,
      "outputs": [
        {
          "output_type": "stream",
          "name": "stdout",
          "text": [
            "Enter Any Number You Want to Check: 121\n",
            "Not an ArmString Number\n"
          ]
        }
      ]
    },
    {
      "cell_type": "markdown",
      "source": [
        "#16. Count Vowels and Consonants"
      ],
      "metadata": {
        "id": "80YkB6VFE3y6"
      }
    },
    {
      "cell_type": "markdown",
      "source": [
        "Write a program that takes a string as input and counts the number of vowels and consonants in it."
      ],
      "metadata": {
        "id": "FKtuq7o-KtT3"
      }
    },
    {
      "cell_type": "code",
      "source": [
        "word = input(\"Enter Any String: \")\n",
        "\n",
        "count_Vowel = 0\n",
        "count_Consonent = 0\n",
        "\n",
        "for i in range(len(word)):\n",
        "  if word[i] == 'a' or word[i] == 'e' or word[i] == 'i' or word[i] == 'u' or word[i] == 'o':\n",
        "    count_Vowel = count_Vowel + 1\n",
        "  else:\n",
        "    count_Consonent = count_Consonent + 1\n",
        "\n",
        "+\n",
        "print(f'Number of Vowels is {count_Vowel}')\n",
        "print(f'Number of Consonents is {count_Consonent}')\n",
        ""
      ],
      "metadata": {
        "colab": {
          "base_uri": "https://localhost:8080/"
        },
        "id": "tmDf_1JDE5ef",
        "outputId": "3804a4c5-2fdd-4182-bc32-494e235f125c"
      },
      "execution_count": 53,
      "outputs": [
        {
          "output_type": "stream",
          "name": "stdout",
          "text": [
            "Enter Any String: Shayan\n",
            "Number of Vowels is 2\n",
            "Number of Consonents is 4\n"
          ]
        }
      ]
    },
    {
      "cell_type": "markdown",
      "source": [
        "#17. Login Authentication"
      ],
      "metadata": {
        "id": "ApUJS6HGKu8b"
      }
    },
    {
      "cell_type": "markdown",
      "source": [
        "Write a program that takes a username and password as input. If the username is \"admin\" and the password is \"password123,\" print \"Login Successful.\" Otherwise, print \"Invalid credentials.\""
      ],
      "metadata": {
        "id": "fDYQoUK9KytR"
      }
    },
    {
      "cell_type": "code",
      "source": [
        "username = input(\"Enter Your UserName: \")\n",
        "password =  input(\"Enter Your Password: \")\n",
        "\n",
        "if username == \"admin\" and password == \"password123\":\n",
        "  print(\"Login\")\n",
        "else:\n",
        "  print(\"Invalid credentials\")\n"
      ],
      "metadata": {
        "colab": {
          "base_uri": "https://localhost:8080/"
        },
        "id": "SuUL224iK0YD",
        "outputId": "e4416cc3-436b-4b9a-cab6-39b1fbd19437"
      },
      "execution_count": 60,
      "outputs": [
        {
          "output_type": "stream",
          "name": "stdout",
          "text": [
            "Enter Your UserName: admin\n",
            "Enter Your Password: password123\n",
            "Login\n"
          ]
        }
      ]
    },
    {
      "cell_type": "markdown",
      "source": [
        "# 18. Pattern Printing"
      ],
      "metadata": {
        "id": "-XebDE3kM9NT"
      }
    },
    {
      "cell_type": "markdown",
      "source": [
        "Write a program to print the following pattern (for n = 5):"
      ],
      "metadata": {
        "id": "sLtuRG-tNDms"
      }
    },
    {
      "cell_type": "markdown",
      "source": [
        "![Screenshot 2024-11-04 225729.png](data:image/png;base64,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)"
      ],
      "metadata": {
        "id": "H8HuBgwcN3E9"
      }
    },
    {
      "cell_type": "code",
      "source": [
        "n = 5\n",
        "row = 1\n",
        "while row <= n:\n",
        "  col = 1\n",
        "  while col <= row:\n",
        "    print(\"*\", end = \"\")\n",
        "    col = col + 1\n",
        "  print()\n",
        "  row = row + 1\n"
      ],
      "metadata": {
        "colab": {
          "base_uri": "https://localhost:8080/"
        },
        "id": "aozxiwtKNCSo",
        "outputId": "8d26039e-d5bc-4669-c5c4-35921c9b8e24"
      },
      "execution_count": 61,
      "outputs": [
        {
          "output_type": "stream",
          "name": "stdout",
          "text": [
            "*\n",
            "**\n",
            "***\n",
            "****\n",
            "*****\n"
          ]
        }
      ]
    },
    {
      "cell_type": "markdown",
      "source": [
        "#19. Sum of Even and Odd Numbers"
      ],
      "metadata": {
        "id": "PrK0tfXNOcUn"
      }
    },
    {
      "cell_type": "markdown",
      "source": [
        "Write a program that takes a list of numbers as input and calculates the sum of even and odd numbers separately."
      ],
      "metadata": {
        "id": "l0KEYGIPOg0q"
      }
    },
    {
      "cell_type": "code",
      "source": [
        "n = int(input(\"Enter List of Numbers: \"))\n",
        "i = 0\n",
        "even_Sum = 0\n",
        "odd_Sum = 0\n",
        "while i <= n:\n",
        "  if i % 2 == 0:\n",
        "    even_Sum += i\n",
        "  else:\n",
        "    odd_Sum += i\n",
        "\n",
        "  i = i + 1\n",
        "\n",
        "print(\"Even Sum = \", even_Sum)\n",
        "print(\"Odd Sum = \", odd_Sum)"
      ],
      "metadata": {
        "colab": {
          "base_uri": "https://localhost:8080/"
        },
        "id": "xozA7a_OOf7N",
        "outputId": "76763371-e8b4-4454-9cf0-c8cce21f8c2f"
      },
      "execution_count": 63,
      "outputs": [
        {
          "output_type": "stream",
          "name": "stdout",
          "text": [
            "Enter List of Numbers: 10\n",
            "Even Sum =  30\n",
            "Odd Sum =  25\n"
          ]
        }
      ]
    }
  ]
}